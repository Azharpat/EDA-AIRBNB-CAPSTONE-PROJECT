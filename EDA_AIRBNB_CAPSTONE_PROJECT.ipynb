{
  "nbformat": 4,
  "nbformat_minor": 0,
  "metadata": {
    "colab": {
      "private_outputs": true,
      "provenance": [],
      "include_colab_link": true
    },
    "kernelspec": {
      "name": "python3",
      "display_name": "Python 3"
    },
    "language_info": {
      "name": "python"
    }
  },
  "cells": [
    {
      "cell_type": "markdown",
      "metadata": {
        "id": "view-in-github",
        "colab_type": "text"
      },
      "source": [
        "<a href=\"https://colab.research.google.com/github/Azharpat/EDA-AIRBNB-CAPSTONE-PROJECT/blob/main/EDA_AIRBNB_CAPSTONE_PROJECT.ipynb\" target=\"_parent\"><img src=\"https://colab.research.google.com/assets/colab-badge.svg\" alt=\"Open In Colab\"/></a>"
      ]
    },
    {
      "cell_type": "markdown",
      "source": [
        "# **Project Name**    - \n",
        "\n"
      ],
      "metadata": {
        "id": "vncDsAP0Gaoa"
      }
    },
    {
      "cell_type": "markdown",
      "source": [
        "##### **Project Type**    - EDA\n",
        "##### **Contribution**    - AZHAR PATEL(Individual)\n"
      ],
      "metadata": {
        "id": "beRrZCGUAJYm"
      }
    },
    {
      "cell_type": "markdown",
      "source": [
        "# **Project Summary -**"
      ],
      "metadata": {
        "id": "FJNUwmbgGyua"
      }
    },
    {
      "cell_type": "markdown",
      "source": [
        "Write the summary here within 500-600 words."
      ],
      "metadata": {
        "id": "F6v_1wHtG2nS"
      }
    },
    {
      "cell_type": "markdown",
      "source": [
        "# **GitHub Link -**"
      ],
      "metadata": {
        "id": "w6K7xa23Elo4"
      }
    },
    {
      "cell_type": "markdown",
      "source": [
        "Provide your GitHub Link here."
      ],
      "metadata": {
        "id": "h1o69JH3Eqqn"
      }
    },
    {
      "cell_type": "markdown",
      "source": [
        "# **Problem Statement**\n"
      ],
      "metadata": {
        "id": "yQaldy8SH6Dl"
      }
    },
    {
      "cell_type": "code",
      "source": [],
      "metadata": {
        "id": "IPakHUuJ-6bb"
      },
      "execution_count": null,
      "outputs": []
    },
    {
      "cell_type": "markdown",
      "source": [
        "Since 2008, guests and hosts have used Airbnb to expand on travelling possibilities and present a more unique, personalised way of experiencing the world. Today, Airbnb became one of a kind service that is used and recognized by the whole world. Data analysis on millions of listings provided through Airbnb is a crucial factor for the company. These millions of listings generate a lot of data - data that can be analysed and used for security, business decisions, understanding of customers' and providers (hosts) behaviour and performance on the platform, guiding marketing initiatives implementation of innovative additional services and much more. This dataset ha around 49,000 observations in it with 16 columns and it is a mix of categorical and numeric values. Explore and analyse the data to discover key understandings.\n",
        "\n",
        "\n",
        "\n",
        "\n",
        "\n",
        "\n"
      ],
      "metadata": {
        "id": "DpeJGUA3kjGy"
      }
    },
    {
      "cell_type": "markdown",
      "source": [
        "#### **Define Your Business Objective?**"
      ],
      "metadata": {
        "id": "PH-0ReGfmX4f"
      }
    },
    {
      "cell_type": "markdown",
      "source": [
        "Before delving into data analysis, it is important to define the business objective for using the Airbnb dataset. Depending on the specific goals of the analysis, different insights and conclusions can be drawn from the data. Here are a few potential business objectives:\n",
        "\n",
        "1.  Identifying popular locations: The objective could be to identify the most popular locations for Airbnb listings, so that hosts can use this information to decide where to list their properties.\n",
        "\n",
        "2. Understanding guest preferences: Another objective could be to understand the preferences of Airbnb guests, including their preferred property types, amenities, and locations.\n",
        "\n",
        "3.  Optimizing pricing: The objective could be to analyze pricing data to identify trends and optimal pricing strategies for hosts.\n",
        "\n",
        "4.  Improving customer experience: The objective could be to analyze customer reviews to identify areas where hosts can improve the guest experience and improve their overall ratings.\n",
        "\n",
        "5.  Predicting demand: The objective could be to use historical data to predict demand for Airbnb listings in specific locations or time periods, so that hosts can optimize their availability and pricing.\n",
        "\n",
        "These are just a few examples of potential business objectives for analyzing the Airbnb dataset. It is important to define the objective at the outset, as this will guide the types of analysis and insights that are most relevant.\n",
        "\n"
      ],
      "metadata": {
        "id": "PhDvGCAqmjP1"
      }
    },
    {
      "cell_type": "markdown",
      "source": [
        "# **General Guidelines** : -  "
      ],
      "metadata": {
        "id": "mDgbUHAGgjLW"
      }
    },
    {
      "cell_type": "markdown",
      "source": [
        "1.   Well-structured, formatted, and commented code is required. \n",
        "2.   Exception Handling, Production Grade Code & Deployment Ready Code will be a plus. Those students will be awarded some additional credits. \n",
        "     \n",
        "     The additional credits will have advantages over other students during Star Student selection.\n",
        "       \n",
        "             [ Note: - Deployment Ready Code is defined as, the whole .ipynb notebook should be executable in one go\n",
        "                       without a single error logged. ]\n",
        "\n",
        "3.   Each and every logic should have proper comments.\n",
        "4. You may add as many number of charts you want. Make Sure for each and every chart the following format should be answered.\n",
        "        \n",
        "\n",
        "```\n",
        "# Chart visualization code\n",
        "```\n",
        "            \n",
        "\n",
        "*   Why did you pick the specific chart?\n",
        "*   What is/are the insight(s) found from the chart?\n",
        "* Will the gained insights help creating a positive business impact? \n",
        "Are there any insights that lead to negative growth? Justify with specific reason.\n",
        "\n",
        "5. You have to create at least 20 logical & meaningful charts having important insights.\n",
        "\n",
        "\n",
        "[ Hints : - Do the Vizualization in  a structured way while following \"UBM\" Rule. \n",
        "\n",
        "U - Univariate Analysis,\n",
        "\n",
        "B - Bivariate Analysis (Numerical - Categorical, Numerical - Numerical, Categorical - Categorical)\n",
        "\n",
        "M - Multivariate Analysis\n",
        " ]\n",
        "\n",
        "\n",
        "\n"
      ],
      "metadata": {
        "id": "ZrxVaUj-hHfC"
      }
    },
    {
      "cell_type": "markdown",
      "source": [
        "# ***Let's Begin !***"
      ],
      "metadata": {
        "id": "O_i_v8NEhb9l"
      }
    },
    {
      "cell_type": "markdown",
      "source": [
        "## ***1. Know Your Data***"
      ],
      "metadata": {
        "id": "HhfV-JJviCcP"
      }
    },
    {
      "cell_type": "markdown",
      "source": [
        "### Import Libraries"
      ],
      "metadata": {
        "id": "Y3lxredqlCYt"
      }
    },
    {
      "cell_type": "code",
      "source": [
        "# Import Libraries\n",
        "import numpy as np\n",
        "import pandas as pd\n",
        "import matplotlib.pyplot as plt\n",
        "import seaborn as sns\n",
        "%matplotlib inline"
      ],
      "metadata": {
        "id": "M8Vqi-pPk-HR"
      },
      "execution_count": null,
      "outputs": []
    },
    {
      "cell_type": "markdown",
      "source": [
        "### Dataset Loading"
      ],
      "metadata": {
        "id": "3RnN4peoiCZX"
      }
    },
    {
      "cell_type": "code",
      "source": [
        "from google.colab import drive\n",
        "drive.mount('/content/drive')"
      ],
      "metadata": {
        "id": "7u15Ahq3BS9g"
      },
      "execution_count": null,
      "outputs": []
    },
    {
      "cell_type": "code",
      "source": [
        "# Load Dataset\n",
        "df=pd.read_csv('/content/drive/MyDrive/EDA AIRBNB CAP PROJECT/DATA/Airbnb NYC 2019.csv')"
      ],
      "metadata": {
        "id": "4CkvbW_SlZ_R"
      },
      "execution_count": null,
      "outputs": []
    },
    {
      "cell_type": "markdown",
      "source": [
        "### Dataset First View"
      ],
      "metadata": {
        "id": "x71ZqKXriCWQ"
      }
    },
    {
      "cell_type": "code",
      "source": [
        "# Dataset First Look\n",
        "df.head()"
      ],
      "metadata": {
        "id": "LWNFOSvLl09H"
      },
      "execution_count": null,
      "outputs": []
    },
    {
      "cell_type": "code",
      "source": [
        "df.tail()"
      ],
      "metadata": {
        "id": "7BxcQiTvB0xH"
      },
      "execution_count": null,
      "outputs": []
    },
    {
      "cell_type": "markdown",
      "source": [
        "### Dataset Rows & Columns count"
      ],
      "metadata": {
        "id": "7hBIi_osiCS2"
      }
    },
    {
      "cell_type": "code",
      "source": [
        "# Dataset Rows & Columns count\n",
        "df.shape"
      ],
      "metadata": {
        "id": "Kllu7SJgmLij"
      },
      "execution_count": null,
      "outputs": []
    },
    {
      "cell_type": "markdown",
      "source": [
        "### Dataset Information"
      ],
      "metadata": {
        "id": "JlHwYmJAmNHm"
      }
    },
    {
      "cell_type": "code",
      "source": [
        "# Dataset Info\n",
        "df.info()"
      ],
      "metadata": {
        "id": "e9hRXRi6meOf"
      },
      "execution_count": null,
      "outputs": []
    },
    {
      "cell_type": "markdown",
      "source": [
        "1.The total number of rows and columns are 48895 and 16 .\n",
        "\n",
        "2.There are null values and missing data we need to clean those ."
      ],
      "metadata": {
        "id": "BrWErplw3Gln"
      }
    },
    {
      "cell_type": "markdown",
      "source": [
        "#### Duplicate Values"
      ],
      "metadata": {
        "id": "35m5QtbWiB9F"
      }
    },
    {
      "cell_type": "code",
      "source": [
        "# Dataset Duplicate Value Count\n",
        "len(df[df.duplicated()])"
      ],
      "metadata": {
        "id": "1sLdpKYkmox0"
      },
      "execution_count": null,
      "outputs": []
    },
    {
      "cell_type": "markdown",
      "source": [
        "#### Missing Values/Null Values"
      ],
      "metadata": {
        "id": "PoPl-ycgm1ru"
      }
    },
    {
      "cell_type": "code",
      "source": [
        "# Missing Values/Null Values Count\n",
        "df.isnull().sum().sort_values(ascending=False)[:5]"
      ],
      "metadata": {
        "id": "GgHWkxvamxVg"
      },
      "execution_count": null,
      "outputs": []
    },
    {
      "cell_type": "markdown",
      "source": [
        "**OBSERVATION FROM THE DATA**\n",
        "\n",
        "1.Columns like name ,host_name ,last_review and review_per_month have missing values .\n",
        "\n",
        "2.Columns like host_name ,name and last_reviews are not important , therefore we can drop these columns.\n",
        "\n",
        "3.last_review and reviews_per_month columns have NaN and they are connected ,hence when the date is missing in last_review the values in review_per_month is also missing\n",
        "\n",
        "> Indented block\n",
        "\n"
      ],
      "metadata": {
        "id": "v2IFeVDW3gDm"
      }
    },
    {
      "cell_type": "code",
      "source": [
        "# Visualizing the missing values\n",
        "sns.heatmap(df.isnull(), cbar=False,)"
      ],
      "metadata": {
        "id": "3q5wnI3om9sJ"
      },
      "execution_count": null,
      "outputs": []
    },
    {
      "cell_type": "markdown",
      "source": [
        "### What did you know about your dataset?"
      ],
      "metadata": {
        "id": "H0kj-8xxnORC"
      }
    },
    {
      "cell_type": "markdown",
      "source": [
        "Answer Here"
      ],
      "metadata": {
        "id": "gfoNAAC-nUe_"
      }
    },
    {
      "cell_type": "markdown",
      "source": [
        "## ***2. Understanding Your Variables***"
      ],
      "metadata": {
        "id": "nA9Y7ga8ng1Z"
      }
    },
    {
      "cell_type": "code",
      "source": [
        "# Dataset Columns\n",
        "df.columns"
      ],
      "metadata": {
        "id": "j7xfkqrt5Ag5"
      },
      "execution_count": null,
      "outputs": []
    },
    {
      "cell_type": "code",
      "source": [
        "# Dataset Describe\n",
        "df.describe().transpose()"
      ],
      "metadata": {
        "id": "DnOaZdaE5Q5t"
      },
      "execution_count": null,
      "outputs": []
    },
    {
      "cell_type": "markdown",
      "source": [
        "### Variables Description "
      ],
      "metadata": {
        "id": "PBTbrJXOngz2"
      }
    },
    {
      "cell_type": "markdown",
      "source": [
        "![image.png](data:image/png;base64,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)"
      ],
      "metadata": {
        "id": "aJV4KIxSnxay"
      }
    },
    {
      "cell_type": "markdown",
      "source": [
        "### Check Unique Values for each variable."
      ],
      "metadata": {
        "id": "u3PMJOP6ngxN"
      }
    },
    {
      "cell_type": "code",
      "source": [
        "# Check Unique Values for each variable.\n",
        "df.nunique().sort_values()"
      ],
      "metadata": {
        "id": "zms12Yq5n-jE"
      },
      "execution_count": null,
      "outputs": []
    },
    {
      "cell_type": "markdown",
      "source": [
        "## 3. ***Data Wrangling***"
      ],
      "metadata": {
        "id": "dauF4eBmngu3"
      }
    },
    {
      "cell_type": "markdown",
      "source": [
        "### Data Wrangling Code"
      ],
      "metadata": {
        "id": "bKJF3rekwFvQ"
      }
    },
    {
      "cell_type": "code",
      "source": [
        "# Write your code to make your dataset analysis ready.\n",
        "\n"
      ],
      "metadata": {
        "id": "wk-9a2fpoLcV"
      },
      "execution_count": null,
      "outputs": []
    },
    {
      "cell_type": "markdown",
      "source": [
        "### What all manipulations have you done and insights you found?"
      ],
      "metadata": {
        "id": "MSa1f5Uengrz"
      }
    },
    {
      "cell_type": "markdown",
      "source": [
        "Answer Here."
      ],
      "metadata": {
        "id": "LbyXE7I1olp8"
      }
    },
    {
      "cell_type": "markdown",
      "source": [
        "## ***4. Data Vizualization, Storytelling & Experimenting with charts : Understand the relationships between variables***"
      ],
      "metadata": {
        "id": "GF8Ens_Soomf"
      }
    },
    {
      "cell_type": "markdown",
      "source": [
        "#### Chart - 1"
      ],
      "metadata": {
        "id": "0wOQAZs5pc--"
      }
    },
    {
      "cell_type": "code",
      "source": [
        "# Chart - 1 visualization code\n",
        "#total hotels chart\n",
        "plt.figure(figsize=(10,6))\n",
        "plt.title(\"total hotels on location\",fontsize = 16)\n",
        "sns.countplot(data=df,x='neighbourhood_group')\n",
        "plt.xlabel(\"neighbourhood_group\",fontsize = 16)\n",
        "plt.ylabel(\"count\",fontsize = 16)\n",
        "plt.show()\n"
      ],
      "metadata": {
        "id": "7v_ESjsspbW7"
      },
      "execution_count": null,
      "outputs": []
    },
    {
      "cell_type": "markdown",
      "source": [
        "##### 1. Why did you pick the specific chart?"
      ],
      "metadata": {
        "id": "K5QZ13OEpz2H"
      }
    },
    {
      "cell_type": "markdown",
      "source": [
        "This specific graph, a bar chart or a countplot, is used to visualize the distribution of categorical data, in this case, the number of hotels in each neighborhood group. It allows us to compare the total number of hotels in each group by visualizing the heights of the bars."
      ],
      "metadata": {
        "id": "XESiWehPqBRc"
      }
    },
    {
      "cell_type": "markdown",
      "source": [
        "##### 2. What is/are the insight(s) found from the chart?"
      ],
      "metadata": {
        "id": "lQ7QKXXCp7Bj"
      }
    },
    {
      "cell_type": "markdown",
      "source": [
        "1.Manhattan has the highest number of hotels among all the neighborhood groups, with over 20,000 hotels.\n",
        "\n",
        "2.Brooklyn has the second highest number of hotels, with around 10,000 hotels.\n",
        "Queens and Staten Island have a relatively lower number of hotels, with around 5,000 and 500 hotels respectively.\n",
        "\n",
        "3.The Bronx has the fewest number of hotels among all the neighborhood groups, with less than 500 hotels."
      ],
      "metadata": {
        "id": "C_j1G7yiqdRP"
      }
    },
    {
      "cell_type": "markdown",
      "source": [
        "##### 3. Will the gained insights help creating a positive business impact? \n",
        "Are there any insights that lead to negative growth? Justify with specific reason."
      ],
      "metadata": {
        "id": "448CDAPjqfQr"
      }
    },
    {
      "cell_type": "markdown",
      "source": [
        "The insights gained from the chart can help create a positive business impact. For example, a hotel owner or investor looking to invest in the hotel industry in New York City can use this information to determine which neighborhood group would be the best to invest in, based on the number of hotels in each group. They could potentially choose to invest in Manhattan or Brooklyn, as these neighborhoods have the highest number of hotels and therefore may offer greater business opportunities."
      ],
      "metadata": {
        "id": "3cspy4FjqxJW"
      }
    },
    {
      "cell_type": "markdown",
      "source": [
        "#### Chart - 2"
      ],
      "metadata": {
        "id": "KSlN3yHqYklG"
      }
    },
    {
      "cell_type": "code",
      "source": [
        "# Chart - 2 visualization code"
      ],
      "metadata": {
        "id": "R4YgtaqtYklH"
      },
      "execution_count": null,
      "outputs": []
    },
    {
      "cell_type": "markdown",
      "source": [
        "##### 1. Why did you pick the specific chart?"
      ],
      "metadata": {
        "id": "t6dVpIINYklI"
      }
    },
    {
      "cell_type": "markdown",
      "source": [
        "Answer Here."
      ],
      "metadata": {
        "id": "5aaW0BYyYklI"
      }
    },
    {
      "cell_type": "markdown",
      "source": [
        "##### 2. What is/are the insight(s) found from the chart?"
      ],
      "metadata": {
        "id": "ijmpgYnKYklI"
      }
    },
    {
      "cell_type": "markdown",
      "source": [
        "Answer Here"
      ],
      "metadata": {
        "id": "PSx9atu2YklI"
      }
    },
    {
      "cell_type": "markdown",
      "source": [
        "##### 3. Will the gained insights help creating a positive business impact? \n",
        "Are there any insights that lead to negative growth? Justify with specific reason."
      ],
      "metadata": {
        "id": "-JiQyfWJYklI"
      }
    },
    {
      "cell_type": "markdown",
      "source": [
        "Answer Here"
      ],
      "metadata": {
        "id": "BcBbebzrYklV"
      }
    },
    {
      "cell_type": "markdown",
      "source": [
        "#### Chart - 3"
      ],
      "metadata": {
        "id": "EM7whBJCYoAo"
      }
    },
    {
      "cell_type": "code",
      "source": [
        "# Chart - 3 visualization code"
      ],
      "metadata": {
        "id": "t6GMdE67YoAp"
      },
      "execution_count": null,
      "outputs": []
    },
    {
      "cell_type": "markdown",
      "source": [
        "##### 1. Why did you pick the specific chart?"
      ],
      "metadata": {
        "id": "fge-S5ZAYoAp"
      }
    },
    {
      "cell_type": "markdown",
      "source": [
        "Answer Here."
      ],
      "metadata": {
        "id": "5dBItgRVYoAp"
      }
    },
    {
      "cell_type": "markdown",
      "source": [
        "##### 2. What is/are the insight(s) found from the chart?"
      ],
      "metadata": {
        "id": "85gYPyotYoAp"
      }
    },
    {
      "cell_type": "markdown",
      "source": [
        "Answer Here"
      ],
      "metadata": {
        "id": "4jstXR6OYoAp"
      }
    },
    {
      "cell_type": "markdown",
      "source": [
        "##### 3. Will the gained insights help creating a positive business impact? \n",
        "Are there any insights that lead to negative growth? Justify with specific reason."
      ],
      "metadata": {
        "id": "RoGjAbkUYoAp"
      }
    },
    {
      "cell_type": "markdown",
      "source": [
        "Answer Here"
      ],
      "metadata": {
        "id": "zfJ8IqMcYoAp"
      }
    },
    {
      "cell_type": "markdown",
      "source": [
        "#### Chart - 4"
      ],
      "metadata": {
        "id": "4Of9eVA-YrdM"
      }
    },
    {
      "cell_type": "code",
      "source": [
        "# Chart - 4 visualization code"
      ],
      "metadata": {
        "id": "irlUoxc8YrdO"
      },
      "execution_count": null,
      "outputs": []
    },
    {
      "cell_type": "markdown",
      "source": [
        "##### 1. Why did you pick the specific chart?"
      ],
      "metadata": {
        "id": "iky9q4vBYrdO"
      }
    },
    {
      "cell_type": "markdown",
      "source": [
        "Answer Here."
      ],
      "metadata": {
        "id": "aJRCwT6DYrdO"
      }
    },
    {
      "cell_type": "markdown",
      "source": [
        "##### 2. What is/are the insight(s) found from the chart?"
      ],
      "metadata": {
        "id": "F6T5p64dYrdO"
      }
    },
    {
      "cell_type": "markdown",
      "source": [
        "Answer Here"
      ],
      "metadata": {
        "id": "Xx8WAJvtYrdO"
      }
    },
    {
      "cell_type": "markdown",
      "source": [
        "##### 3. Will the gained insights help creating a positive business impact? \n",
        "Are there any insights that lead to negative growth? Justify with specific reason."
      ],
      "metadata": {
        "id": "y-Ehk30pYrdP"
      }
    },
    {
      "cell_type": "markdown",
      "source": [
        "Answer Here"
      ],
      "metadata": {
        "id": "jLNxxz7MYrdP"
      }
    },
    {
      "cell_type": "markdown",
      "source": [
        "#### Chart - 5"
      ],
      "metadata": {
        "id": "bamQiAODYuh1"
      }
    },
    {
      "cell_type": "code",
      "source": [
        "# Chart - 5 visualization code"
      ],
      "metadata": {
        "id": "TIJwrbroYuh3"
      },
      "execution_count": null,
      "outputs": []
    },
    {
      "cell_type": "markdown",
      "source": [
        "##### 1. Why did you pick the specific chart?"
      ],
      "metadata": {
        "id": "QHF8YVU7Yuh3"
      }
    },
    {
      "cell_type": "markdown",
      "source": [
        "Answer Here."
      ],
      "metadata": {
        "id": "dcxuIMRPYuh3"
      }
    },
    {
      "cell_type": "markdown",
      "source": [
        "##### 2. What is/are the insight(s) found from the chart?"
      ],
      "metadata": {
        "id": "GwzvFGzlYuh3"
      }
    },
    {
      "cell_type": "markdown",
      "source": [
        "Answer Here"
      ],
      "metadata": {
        "id": "uyqkiB8YYuh3"
      }
    },
    {
      "cell_type": "markdown",
      "source": [
        "##### 3. Will the gained insights help creating a positive business impact? \n",
        "Are there any insights that lead to negative growth? Justify with specific reason."
      ],
      "metadata": {
        "id": "qYpmQ266Yuh3"
      }
    },
    {
      "cell_type": "markdown",
      "source": [
        "Answer Here"
      ],
      "metadata": {
        "id": "_WtzZ_hCYuh4"
      }
    },
    {
      "cell_type": "markdown",
      "source": [
        "#### Chart - 6"
      ],
      "metadata": {
        "id": "OH-pJp9IphqM"
      }
    },
    {
      "cell_type": "code",
      "source": [
        "# Chart - 6 visualization code"
      ],
      "metadata": {
        "id": "kuRf4wtuphqN"
      },
      "execution_count": null,
      "outputs": []
    },
    {
      "cell_type": "markdown",
      "source": [
        "##### 1. Why did you pick the specific chart?"
      ],
      "metadata": {
        "id": "bbFf2-_FphqN"
      }
    },
    {
      "cell_type": "markdown",
      "source": [
        "Answer Here."
      ],
      "metadata": {
        "id": "loh7H2nzphqN"
      }
    },
    {
      "cell_type": "markdown",
      "source": [
        "##### 2. What is/are the insight(s) found from the chart?"
      ],
      "metadata": {
        "id": "_ouA3fa0phqN"
      }
    },
    {
      "cell_type": "markdown",
      "source": [
        "Answer Here"
      ],
      "metadata": {
        "id": "VECbqPI7phqN"
      }
    },
    {
      "cell_type": "markdown",
      "source": [
        "##### 3. Will the gained insights help creating a positive business impact? \n",
        "Are there any insights that lead to negative growth? Justify with specific reason."
      ],
      "metadata": {
        "id": "Seke61FWphqN"
      }
    },
    {
      "cell_type": "markdown",
      "source": [
        "Answer Here"
      ],
      "metadata": {
        "id": "DW4_bGpfphqN"
      }
    },
    {
      "cell_type": "markdown",
      "source": [
        "#### Chart - 7"
      ],
      "metadata": {
        "id": "PIIx-8_IphqN"
      }
    },
    {
      "cell_type": "code",
      "source": [
        "# Chart - 7 visualization code"
      ],
      "metadata": {
        "id": "lqAIGUfyphqO"
      },
      "execution_count": null,
      "outputs": []
    },
    {
      "cell_type": "markdown",
      "source": [
        "##### 1. Why did you pick the specific chart?"
      ],
      "metadata": {
        "id": "t27r6nlMphqO"
      }
    },
    {
      "cell_type": "markdown",
      "source": [
        "Answer Here."
      ],
      "metadata": {
        "id": "iv6ro40sphqO"
      }
    },
    {
      "cell_type": "markdown",
      "source": [
        "##### 2. What is/are the insight(s) found from the chart?"
      ],
      "metadata": {
        "id": "r2jJGEOYphqO"
      }
    },
    {
      "cell_type": "markdown",
      "source": [
        "Answer Here"
      ],
      "metadata": {
        "id": "Po6ZPi4hphqO"
      }
    },
    {
      "cell_type": "markdown",
      "source": [
        "##### 3. Will the gained insights help creating a positive business impact? \n",
        "Are there any insights that lead to negative growth? Justify with specific reason."
      ],
      "metadata": {
        "id": "b0JNsNcRphqO"
      }
    },
    {
      "cell_type": "markdown",
      "source": [
        "Answer Here"
      ],
      "metadata": {
        "id": "xvSq8iUTphqO"
      }
    },
    {
      "cell_type": "markdown",
      "source": [
        "#### Chart - 8"
      ],
      "metadata": {
        "id": "BZR9WyysphqO"
      }
    },
    {
      "cell_type": "code",
      "source": [
        "# Chart - 8 visualization code"
      ],
      "metadata": {
        "id": "TdPTWpAVphqO"
      },
      "execution_count": null,
      "outputs": []
    },
    {
      "cell_type": "markdown",
      "source": [
        "##### 1. Why did you pick the specific chart?"
      ],
      "metadata": {
        "id": "jj7wYXLtphqO"
      }
    },
    {
      "cell_type": "markdown",
      "source": [
        "Answer Here."
      ],
      "metadata": {
        "id": "Ob8u6rCTphqO"
      }
    },
    {
      "cell_type": "markdown",
      "source": [
        "##### 2. What is/are the insight(s) found from the chart?"
      ],
      "metadata": {
        "id": "eZrbJ2SmphqO"
      }
    },
    {
      "cell_type": "markdown",
      "source": [
        "Answer Here"
      ],
      "metadata": {
        "id": "mZtgC_hjphqO"
      }
    },
    {
      "cell_type": "markdown",
      "source": [
        "##### 3. Will the gained insights help creating a positive business impact? \n",
        "Are there any insights that lead to negative growth? Justify with specific reason."
      ],
      "metadata": {
        "id": "rFu4xreNphqO"
      }
    },
    {
      "cell_type": "markdown",
      "source": [
        "Answer Here"
      ],
      "metadata": {
        "id": "ey_0qi68phqO"
      }
    },
    {
      "cell_type": "markdown",
      "source": [
        "#### Chart - 9"
      ],
      "metadata": {
        "id": "YJ55k-q6phqO"
      }
    },
    {
      "cell_type": "code",
      "source": [
        "# Chart - 9 visualization code"
      ],
      "metadata": {
        "id": "B2aS4O1ophqO"
      },
      "execution_count": null,
      "outputs": []
    },
    {
      "cell_type": "markdown",
      "source": [
        "##### 1. Why did you pick the specific chart?"
      ],
      "metadata": {
        "id": "gCFgpxoyphqP"
      }
    },
    {
      "cell_type": "markdown",
      "source": [
        "Answer Here."
      ],
      "metadata": {
        "id": "TVxDimi2phqP"
      }
    },
    {
      "cell_type": "markdown",
      "source": [
        "##### 2. What is/are the insight(s) found from the chart?"
      ],
      "metadata": {
        "id": "OVtJsKN_phqQ"
      }
    },
    {
      "cell_type": "markdown",
      "source": [
        "Answer Here"
      ],
      "metadata": {
        "id": "ngGi97qjphqQ"
      }
    },
    {
      "cell_type": "markdown",
      "source": [
        "##### 3. Will the gained insights help creating a positive business impact? \n",
        "Are there any insights that lead to negative growth? Justify with specific reason."
      ],
      "metadata": {
        "id": "lssrdh5qphqQ"
      }
    },
    {
      "cell_type": "markdown",
      "source": [
        "Answer Here"
      ],
      "metadata": {
        "id": "tBpY5ekJphqQ"
      }
    },
    {
      "cell_type": "markdown",
      "source": [
        "#### Chart - 10"
      ],
      "metadata": {
        "id": "U2RJ9gkRphqQ"
      }
    },
    {
      "cell_type": "code",
      "source": [
        "# Chart - 10 visualization code"
      ],
      "metadata": {
        "id": "GM7a4YP4phqQ"
      },
      "execution_count": null,
      "outputs": []
    },
    {
      "cell_type": "markdown",
      "source": [
        "##### 1. Why did you pick the specific chart?"
      ],
      "metadata": {
        "id": "1M8mcRywphqQ"
      }
    },
    {
      "cell_type": "markdown",
      "source": [
        "Answer Here."
      ],
      "metadata": {
        "id": "8agQvks0phqQ"
      }
    },
    {
      "cell_type": "markdown",
      "source": [
        "##### 2. What is/are the insight(s) found from the chart?"
      ],
      "metadata": {
        "id": "tgIPom80phqQ"
      }
    },
    {
      "cell_type": "markdown",
      "source": [
        "Answer Here"
      ],
      "metadata": {
        "id": "Qp13pnNzphqQ"
      }
    },
    {
      "cell_type": "markdown",
      "source": [
        "##### 3. Will the gained insights help creating a positive business impact? \n",
        "Are there any insights that lead to negative growth? Justify with specific reason."
      ],
      "metadata": {
        "id": "JMzcOPDDphqR"
      }
    },
    {
      "cell_type": "markdown",
      "source": [
        "Answer Here"
      ],
      "metadata": {
        "id": "R4Ka1PC2phqR"
      }
    },
    {
      "cell_type": "markdown",
      "source": [
        "#### Chart - 11"
      ],
      "metadata": {
        "id": "x-EpHcCOp1ci"
      }
    },
    {
      "cell_type": "code",
      "source": [
        "# Chart - 11 visualization code"
      ],
      "metadata": {
        "id": "mAQTIvtqp1cj"
      },
      "execution_count": null,
      "outputs": []
    },
    {
      "cell_type": "markdown",
      "source": [
        "##### 1. Why did you pick the specific chart?"
      ],
      "metadata": {
        "id": "X_VqEhTip1ck"
      }
    },
    {
      "cell_type": "markdown",
      "source": [
        "Answer Here."
      ],
      "metadata": {
        "id": "-vsMzt_np1ck"
      }
    },
    {
      "cell_type": "markdown",
      "source": [
        "##### 2. What is/are the insight(s) found from the chart?"
      ],
      "metadata": {
        "id": "8zGJKyg5p1ck"
      }
    },
    {
      "cell_type": "markdown",
      "source": [
        "Answer Here"
      ],
      "metadata": {
        "id": "ZYdMsrqVp1ck"
      }
    },
    {
      "cell_type": "markdown",
      "source": [
        "##### 3. Will the gained insights help creating a positive business impact? \n",
        "Are there any insights that lead to negative growth? Justify with specific reason."
      ],
      "metadata": {
        "id": "PVzmfK_Ep1ck"
      }
    },
    {
      "cell_type": "markdown",
      "source": [
        "Answer Here"
      ],
      "metadata": {
        "id": "druuKYZpp1ck"
      }
    },
    {
      "cell_type": "markdown",
      "source": [
        "#### Chart - 12"
      ],
      "metadata": {
        "id": "n3dbpmDWp1ck"
      }
    },
    {
      "cell_type": "code",
      "source": [
        "# Chart - 12 visualization code"
      ],
      "metadata": {
        "id": "bwevp1tKp1ck"
      },
      "execution_count": null,
      "outputs": []
    },
    {
      "cell_type": "markdown",
      "source": [
        "##### 1. Why did you pick the specific chart?"
      ],
      "metadata": {
        "id": "ylSl6qgtp1ck"
      }
    },
    {
      "cell_type": "markdown",
      "source": [
        "Answer Here."
      ],
      "metadata": {
        "id": "m2xqNkiQp1ck"
      }
    },
    {
      "cell_type": "markdown",
      "source": [
        "##### 2. What is/are the insight(s) found from the chart?"
      ],
      "metadata": {
        "id": "ZWILFDl5p1ck"
      }
    },
    {
      "cell_type": "markdown",
      "source": [
        "Answer Here"
      ],
      "metadata": {
        "id": "x-lUsV2mp1ck"
      }
    },
    {
      "cell_type": "markdown",
      "source": [
        "##### 3. Will the gained insights help creating a positive business impact? \n",
        "Are there any insights that lead to negative growth? Justify with specific reason."
      ],
      "metadata": {
        "id": "M7G43BXep1ck"
      }
    },
    {
      "cell_type": "markdown",
      "source": [
        "Answer Here"
      ],
      "metadata": {
        "id": "5wwDJXsLp1cl"
      }
    },
    {
      "cell_type": "markdown",
      "source": [
        "#### Chart - 13"
      ],
      "metadata": {
        "id": "Ag9LCva-p1cl"
      }
    },
    {
      "cell_type": "code",
      "source": [
        "# Chart - 13 visualization code"
      ],
      "metadata": {
        "id": "EUfxeq9-p1cl"
      },
      "execution_count": null,
      "outputs": []
    },
    {
      "cell_type": "markdown",
      "source": [
        "##### 1. Why did you pick the specific chart?"
      ],
      "metadata": {
        "id": "E6MkPsBcp1cl"
      }
    },
    {
      "cell_type": "markdown",
      "source": [
        "Answer Here."
      ],
      "metadata": {
        "id": "V22bRsFWp1cl"
      }
    },
    {
      "cell_type": "markdown",
      "source": [
        "##### 2. What is/are the insight(s) found from the chart?"
      ],
      "metadata": {
        "id": "2cELzS2fp1cl"
      }
    },
    {
      "cell_type": "markdown",
      "source": [
        "Answer Here"
      ],
      "metadata": {
        "id": "ozQPc2_Ip1cl"
      }
    },
    {
      "cell_type": "markdown",
      "source": [
        "##### 3. Will the gained insights help creating a positive business impact? \n",
        "Are there any insights that lead to negative growth? Justify with specific reason."
      ],
      "metadata": {
        "id": "3MPXvC8up1cl"
      }
    },
    {
      "cell_type": "markdown",
      "source": [
        "Answer Here"
      ],
      "metadata": {
        "id": "GL8l1tdLp1cl"
      }
    },
    {
      "cell_type": "markdown",
      "source": [
        "#### Chart - 14 - Correlation Heatmap"
      ],
      "metadata": {
        "id": "NC_X3p0fY2L0"
      }
    },
    {
      "cell_type": "code",
      "source": [
        "# Correlation Heatmap visualization code"
      ],
      "metadata": {
        "id": "xyC9zolEZNRQ"
      },
      "execution_count": null,
      "outputs": []
    },
    {
      "cell_type": "markdown",
      "source": [
        "##### 1. Why did you pick the specific chart?"
      ],
      "metadata": {
        "id": "UV0SzAkaZNRQ"
      }
    },
    {
      "cell_type": "markdown",
      "source": [
        "Answer Here."
      ],
      "metadata": {
        "id": "DVPuT8LYZNRQ"
      }
    },
    {
      "cell_type": "markdown",
      "source": [
        "##### 2. What is/are the insight(s) found from the chart?"
      ],
      "metadata": {
        "id": "YPEH6qLeZNRQ"
      }
    },
    {
      "cell_type": "markdown",
      "source": [
        "Answer Here"
      ],
      "metadata": {
        "id": "bfSqtnDqZNRR"
      }
    },
    {
      "cell_type": "markdown",
      "source": [
        "#### Chart - 15 - Pair Plot "
      ],
      "metadata": {
        "id": "q29F0dvdveiT"
      }
    },
    {
      "cell_type": "code",
      "source": [
        "# Pair Plot visualization code"
      ],
      "metadata": {
        "id": "o58-TEIhveiU"
      },
      "execution_count": null,
      "outputs": []
    },
    {
      "cell_type": "markdown",
      "source": [
        "##### 1. Why did you pick the specific chart?"
      ],
      "metadata": {
        "id": "EXh0U9oCveiU"
      }
    },
    {
      "cell_type": "markdown",
      "source": [
        "Answer Here."
      ],
      "metadata": {
        "id": "eMmPjTByveiU"
      }
    },
    {
      "cell_type": "markdown",
      "source": [
        "##### 2. What is/are the insight(s) found from the chart?"
      ],
      "metadata": {
        "id": "22aHeOlLveiV"
      }
    },
    {
      "cell_type": "markdown",
      "source": [
        "Answer Here"
      ],
      "metadata": {
        "id": "uPQ8RGwHveiV"
      }
    },
    {
      "cell_type": "markdown",
      "source": [
        "## **5. Solution to Business Objective**"
      ],
      "metadata": {
        "id": "JcMwzZxoAimU"
      }
    },
    {
      "cell_type": "markdown",
      "source": [
        "#### What do you suggest the client to achieve Business Objective ? \n",
        "Explain Briefly."
      ],
      "metadata": {
        "id": "8G2x9gOozGDZ"
      }
    },
    {
      "cell_type": "markdown",
      "source": [
        "Answer Here."
      ],
      "metadata": {
        "id": "pASKb0qOza21"
      }
    },
    {
      "cell_type": "markdown",
      "source": [
        "# **Conclusion**"
      ],
      "metadata": {
        "id": "gCX9965dhzqZ"
      }
    },
    {
      "cell_type": "markdown",
      "source": [
        "Write the conclusion here."
      ],
      "metadata": {
        "id": "Fjb1IsQkh3yE"
      }
    },
    {
      "cell_type": "markdown",
      "source": [
        "### ***Hurrah! You have successfully completed your EDA Capstone Project !!!***"
      ],
      "metadata": {
        "id": "gIfDvo9L0UH2"
      }
    }
  ]
}